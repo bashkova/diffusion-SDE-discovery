{
 "cells": [
  {
   "cell_type": "code",
   "execution_count": 1,
   "id": "19c1cd0f",
   "metadata": {},
   "outputs": [],
   "source": [
    "import git\n",
    "from io import StringIO\n",
    "import contextlib"
   ]
  },
  {
   "cell_type": "code",
   "execution_count": 6,
   "id": "85c0943e",
   "metadata": {},
   "outputs": [],
   "source": [
    "PATH_TO_EPDE = \"C:\\\\Users\\\\Ksenia\\\\jupyter310\\\\Lib\\\\site-packages\\\\epde\\\\\"\n",
    "sys.path.append(PATH_TO_EPDE)"
   ]
  },
  {
   "cell_type": "code",
   "execution_count": 2,
   "id": "0e9cb86f",
   "metadata": {},
   "outputs": [],
   "source": [
    "import re\n",
    "import csv\n",
    "import json\n",
    "from typing import List, Tuple, Dict, Any"
   ]
  },
  {
   "cell_type": "code",
   "execution_count": 3,
   "id": "c55f29be",
   "metadata": {},
   "outputs": [],
   "source": [
    "import os\n",
    "import math\n",
    "import numpy as np\n",
    "import pandas as pd\n",
    "import plotly\n",
    "import plotly.graph_objects as go\n",
    "import plotly.express as px\n",
    "from pathlib import Path\n",
    "import matplotlib.pyplot as plt\n",
    "from mpl_toolkits.mplot3d import Axes3D\n",
    "from matplotlib import image"
   ]
  },
  {
   "cell_type": "code",
   "execution_count": 4,
   "id": "0decba19",
   "metadata": {},
   "outputs": [],
   "source": [
    "import torch"
   ]
  },
  {
   "cell_type": "code",
   "execution_count": 5,
   "id": "ab7c56c4",
   "metadata": {},
   "outputs": [
    {
     "name": "stdout",
     "output_type": "stream",
     "text": [
      "C:\\Users\\Ksenia\\jupyter310\\Scripts\\python.exe\n"
     ]
    }
   ],
   "source": [
    "import sys\n",
    "print(sys.executable)"
   ]
  },
  {
   "cell_type": "code",
   "execution_count": 7,
   "id": "cddc3040",
   "metadata": {},
   "outputs": [],
   "source": [
    "import epde"
   ]
  },
  {
   "cell_type": "code",
   "execution_count": 8,
   "id": "208b1fef",
   "metadata": {},
   "outputs": [],
   "source": [
    "from epde.control import ControlExp, ConstrLocation, ConditionalLoss, ControlConstrEq, ControlConstrNEq\n",
    "from epde.interface.prepared_tokens import DerivSignFunction"
   ]
  },
  {
   "cell_type": "code",
   "execution_count": 9,
   "id": "2cc37291",
   "metadata": {},
   "outputs": [],
   "source": [
    "from epde.interface.interface import EpdeMultisample"
   ]
  },
  {
   "cell_type": "code",
   "execution_count": 10,
   "id": "a8cb03a8",
   "metadata": {},
   "outputs": [],
   "source": [
    "file_path = Path(r'C:\\Users\\Ksenia\\NSS\\ODE_projects\\diffSDE')\n",
    "npy_file = file_path / 'trajectories' "
   ]
  },
  {
   "cell_type": "code",
   "execution_count": 11,
   "id": "a7f4de5e",
   "metadata": {},
   "outputs": [
    {
     "data": {
      "text/plain": [
       "{'__name__': 'epde',\n",
       " '__doc__': None,\n",
       " '__package__': 'epde',\n",
       " '__loader__': <_frozen_importlib_external.SourceFileLoader at 0x25d3ad71480>,\n",
       " '__spec__': ModuleSpec(name='epde', loader=<_frozen_importlib_external.SourceFileLoader object at 0x0000025D3AD71480>, origin='C:\\\\Users\\\\Ksenia\\\\jupyter310\\\\lib\\\\site-packages\\\\epde\\\\__init__.py', submodule_search_locations=['C:\\\\Users\\\\Ksenia\\\\jupyter310\\\\lib\\\\site-packages\\\\epde']),\n",
       " '__path__': ['C:\\\\Users\\\\Ksenia\\\\jupyter310\\\\lib\\\\site-packages\\\\epde'],\n",
       " '__file__': 'C:\\\\Users\\\\Ksenia\\\\jupyter310\\\\lib\\\\site-packages\\\\epde\\\\__init__.py',\n",
       " '__cached__': 'C:\\\\Users\\\\Ksenia\\\\jupyter310\\\\lib\\\\site-packages\\\\epde\\\\__pycache__\\\\__init__.cpython-310.pyc',\n",
       " '__builtins__': {'__name__': 'builtins',\n",
       "  '__doc__': \"Built-in functions, exceptions, and other objects.\\n\\nNoteworthy: None is the `nil' object; Ellipsis represents `...' in slices.\",\n",
       "  '__package__': '',\n",
       "  '__loader__': _frozen_importlib.BuiltinImporter,\n",
       "  '__spec__': ModuleSpec(name='builtins', loader=<class '_frozen_importlib.BuiltinImporter'>, origin='built-in'),\n",
       "  '__build_class__': <function __build_class__>,\n",
       "  '__import__': <function __import__>,\n",
       "  'abs': <function abs(x, /)>,\n",
       "  'all': <function all(iterable, /)>,\n",
       "  'any': <function any(iterable, /)>,\n",
       "  'ascii': <function ascii(obj, /)>,\n",
       "  'bin': <function bin(number, /)>,\n",
       "  'breakpoint': <function breakpoint>,\n",
       "  'callable': <function callable(obj, /)>,\n",
       "  'chr': <function chr(i, /)>,\n",
       "  'compile': <function compile(source, filename, mode, flags=0, dont_inherit=False, optimize=-1, *, _feature_version=-1)>,\n",
       "  'delattr': <function delattr(obj, name, /)>,\n",
       "  'dir': <function dir>,\n",
       "  'divmod': <function divmod(x, y, /)>,\n",
       "  'eval': <function eval(source, globals=None, locals=None, /)>,\n",
       "  'exec': <function exec(source, globals=None, locals=None, /)>,\n",
       "  'format': <function format(value, format_spec='', /)>,\n",
       "  'getattr': <function getattr>,\n",
       "  'globals': <function globals()>,\n",
       "  'hasattr': <function hasattr(obj, name, /)>,\n",
       "  'hash': <function hash(obj, /)>,\n",
       "  'hex': <function hex(number, /)>,\n",
       "  'id': <function id(obj, /)>,\n",
       "  'input': <bound method Kernel.raw_input of <ipykernel.ipkernel.IPythonKernel object at 0x0000025D205C7550>>,\n",
       "  'isinstance': <function isinstance(obj, class_or_tuple, /)>,\n",
       "  'issubclass': <function issubclass(cls, class_or_tuple, /)>,\n",
       "  'iter': <function iter>,\n",
       "  'aiter': <function aiter(async_iterable, /)>,\n",
       "  'len': <function len(obj, /)>,\n",
       "  'locals': <function locals()>,\n",
       "  'max': <function max>,\n",
       "  'min': <function min>,\n",
       "  'next': <function next>,\n",
       "  'anext': <function anext>,\n",
       "  'oct': <function oct(number, /)>,\n",
       "  'ord': <function ord(c, /)>,\n",
       "  'pow': <function pow(base, exp, mod=None)>,\n",
       "  'print': <function print>,\n",
       "  'repr': <function repr(obj, /)>,\n",
       "  'round': <function round(number, ndigits=None)>,\n",
       "  'setattr': <function setattr(obj, name, value, /)>,\n",
       "  'sorted': <function sorted(iterable, /, *, key=None, reverse=False)>,\n",
       "  'sum': <function sum(iterable, /, start=0)>,\n",
       "  'vars': <function vars>,\n",
       "  'None': None,\n",
       "  'Ellipsis': Ellipsis,\n",
       "  'NotImplemented': NotImplemented,\n",
       "  'False': False,\n",
       "  'True': True,\n",
       "  'bool': bool,\n",
       "  'memoryview': memoryview,\n",
       "  'bytearray': bytearray,\n",
       "  'bytes': bytes,\n",
       "  'classmethod': classmethod,\n",
       "  'complex': complex,\n",
       "  'dict': dict,\n",
       "  'enumerate': enumerate,\n",
       "  'filter': filter,\n",
       "  'float': float,\n",
       "  'frozenset': frozenset,\n",
       "  'property': property,\n",
       "  'int': int,\n",
       "  'list': list,\n",
       "  'map': map,\n",
       "  'object': object,\n",
       "  'range': range,\n",
       "  'reversed': reversed,\n",
       "  'set': set,\n",
       "  'slice': slice,\n",
       "  'staticmethod': staticmethod,\n",
       "  'str': str,\n",
       "  'super': super,\n",
       "  'tuple': tuple,\n",
       "  'type': type,\n",
       "  'zip': zip,\n",
       "  '__debug__': True,\n",
       "  'BaseException': BaseException,\n",
       "  'Exception': Exception,\n",
       "  'TypeError': TypeError,\n",
       "  'StopAsyncIteration': StopAsyncIteration,\n",
       "  'StopIteration': StopIteration,\n",
       "  'GeneratorExit': GeneratorExit,\n",
       "  'SystemExit': SystemExit,\n",
       "  'KeyboardInterrupt': KeyboardInterrupt,\n",
       "  'ImportError': ImportError,\n",
       "  'ModuleNotFoundError': ModuleNotFoundError,\n",
       "  'OSError': OSError,\n",
       "  'EnvironmentError': OSError,\n",
       "  'IOError': OSError,\n",
       "  'WindowsError': OSError,\n",
       "  'EOFError': EOFError,\n",
       "  'RuntimeError': RuntimeError,\n",
       "  'RecursionError': RecursionError,\n",
       "  'NotImplementedError': NotImplementedError,\n",
       "  'NameError': NameError,\n",
       "  'UnboundLocalError': UnboundLocalError,\n",
       "  'AttributeError': AttributeError,\n",
       "  'SyntaxError': SyntaxError,\n",
       "  'IndentationError': IndentationError,\n",
       "  'TabError': TabError,\n",
       "  'LookupError': LookupError,\n",
       "  'IndexError': IndexError,\n",
       "  'KeyError': KeyError,\n",
       "  'ValueError': ValueError,\n",
       "  'UnicodeError': UnicodeError,\n",
       "  'UnicodeEncodeError': UnicodeEncodeError,\n",
       "  'UnicodeDecodeError': UnicodeDecodeError,\n",
       "  'UnicodeTranslateError': UnicodeTranslateError,\n",
       "  'AssertionError': AssertionError,\n",
       "  'ArithmeticError': ArithmeticError,\n",
       "  'FloatingPointError': FloatingPointError,\n",
       "  'OverflowError': OverflowError,\n",
       "  'ZeroDivisionError': ZeroDivisionError,\n",
       "  'SystemError': SystemError,\n",
       "  'ReferenceError': ReferenceError,\n",
       "  'MemoryError': MemoryError,\n",
       "  'BufferError': BufferError,\n",
       "  'Warning': Warning,\n",
       "  'UserWarning': UserWarning,\n",
       "  'EncodingWarning': EncodingWarning,\n",
       "  'DeprecationWarning': DeprecationWarning,\n",
       "  'PendingDeprecationWarning': PendingDeprecationWarning,\n",
       "  'SyntaxWarning': SyntaxWarning,\n",
       "  'RuntimeWarning': RuntimeWarning,\n",
       "  'FutureWarning': FutureWarning,\n",
       "  'ImportWarning': ImportWarning,\n",
       "  'UnicodeWarning': UnicodeWarning,\n",
       "  'BytesWarning': BytesWarning,\n",
       "  'ResourceWarning': ResourceWarning,\n",
       "  'ConnectionError': ConnectionError,\n",
       "  'BlockingIOError': BlockingIOError,\n",
       "  'BrokenPipeError': BrokenPipeError,\n",
       "  'ChildProcessError': ChildProcessError,\n",
       "  'ConnectionAbortedError': ConnectionAbortedError,\n",
       "  'ConnectionRefusedError': ConnectionRefusedError,\n",
       "  'ConnectionResetError': ConnectionResetError,\n",
       "  'FileExistsError': FileExistsError,\n",
       "  'FileNotFoundError': FileNotFoundError,\n",
       "  'IsADirectoryError': IsADirectoryError,\n",
       "  'NotADirectoryError': NotADirectoryError,\n",
       "  'InterruptedError': InterruptedError,\n",
       "  'PermissionError': PermissionError,\n",
       "  'ProcessLookupError': ProcessLookupError,\n",
       "  'TimeoutError': TimeoutError,\n",
       "  'open': <function io.open(file, mode='r', buffering=-1, encoding=None, errors=None, newline=None, closefd=True, opener=None)>,\n",
       "  'copyright': Copyright (c) 2001-2021 Python Software Foundation.\n",
       "  All Rights Reserved.\n",
       "  \n",
       "  Copyright (c) 2000 BeOpen.com.\n",
       "  All Rights Reserved.\n",
       "  \n",
       "  Copyright (c) 1995-2001 Corporation for National Research Initiatives.\n",
       "  All Rights Reserved.\n",
       "  \n",
       "  Copyright (c) 1991-1995 Stichting Mathematisch Centrum, Amsterdam.\n",
       "  All Rights Reserved.,\n",
       "  'credits':     Thanks to CWI, CNRI, BeOpen.com, Zope Corporation and a cast of thousands\n",
       "      for supporting Python development.  See www.python.org for more information.,\n",
       "  'license': Type license() to see the full license text,\n",
       "  'help': Type help() for interactive help, or help(object) for help about object.,\n",
       "  'execfile': <function _pydev_bundle._pydev_execfile.execfile(file, glob=None, loc=None)>,\n",
       "  'runfile': <function _pydev_bundle.pydev_umd.runfile(filename, args=None, wdir=None, namespace=None)>,\n",
       "  '__IPYTHON__': True,\n",
       "  'display': <function IPython.core.display_functions.display(*objs, include=None, exclude=None, metadata=None, transient=None, display_id=None, raw=False, clear=False, **kwargs)>,\n",
       "  '__pybind11_internals_v4_mingw_libstdcpp_cxxabi1014__': <capsule object NULL at 0x0000025D58E5AD00>,\n",
       "  'get_ipython': <bound method InteractiveShell.get_ipython of <ipykernel.zmqshell.ZMQInteractiveShell object at 0x0000025D209EFA30>>},\n",
       " 'interface': <module 'epde.interface' from 'C:\\\\Users\\\\Ksenia\\\\jupyter310\\\\lib\\\\site-packages\\\\epde\\\\interface\\\\__init__.py'>,\n",
       " 'cache': <module 'epde.cache' from 'C:\\\\Users\\\\Ksenia\\\\jupyter310\\\\lib\\\\site-packages\\\\epde\\\\cache\\\\__init__.py'>,\n",
       " 'solver': <module 'epde.solver' from 'C:\\\\Users\\\\Ksenia\\\\jupyter310\\\\lib\\\\site-packages\\\\epde\\\\solver\\\\__init__.py'>,\n",
       " 'supplementary': <module 'epde.supplementary' from 'C:\\\\Users\\\\Ksenia\\\\jupyter310\\\\lib\\\\site-packages\\\\epde\\\\supplementary.py'>,\n",
       " 'globals': <module 'epde.globals' from 'C:\\\\Users\\\\Ksenia\\\\jupyter310\\\\lib\\\\site-packages\\\\epde\\\\globals.py'>,\n",
       " 'optimizers': <module 'epde.optimizers' from 'C:\\\\Users\\\\Ksenia\\\\jupyter310\\\\lib\\\\site-packages\\\\epde\\\\optimizers\\\\__init__.py'>,\n",
       " 'structure': <module 'epde.structure' from 'C:\\\\Users\\\\Ksenia\\\\jupyter310\\\\lib\\\\site-packages\\\\epde\\\\structure\\\\__init__.py'>,\n",
       " 'decorators': <module 'epde.decorators' from 'C:\\\\Users\\\\Ksenia\\\\jupyter310\\\\lib\\\\site-packages\\\\epde\\\\decorators.py'>,\n",
       " 'evaluators': <module 'epde.evaluators' from 'C:\\\\Users\\\\Ksenia\\\\jupyter310\\\\lib\\\\site-packages\\\\epde\\\\evaluators.py'>,\n",
       " 'preprocessing': <module 'epde.preprocessing' from 'C:\\\\Users\\\\Ksenia\\\\jupyter310\\\\lib\\\\site-packages\\\\epde\\\\preprocessing\\\\__init__.py'>,\n",
       " 'operators': <module 'epde.operators' from 'C:\\\\Users\\\\Ksenia\\\\jupyter310\\\\lib\\\\site-packages\\\\epde\\\\operators\\\\__init__.py'>,\n",
       " 'integrate': <module 'epde.integrate' from 'C:\\\\Users\\\\Ksenia\\\\jupyter310\\\\lib\\\\site-packages\\\\epde\\\\integrate\\\\__init__.py'>,\n",
       " 'EpdeSearch': epde.interface.interface.EpdeSearch,\n",
       " 'EpdeMultisample': epde.interface.interface.EpdeMultisample,\n",
       " 'Logger': epde.interface.logger.Logger,\n",
       " 'translate_equation': <function epde.interface.equation_translator.translate_equation(text_form, pool, all_vars)>,\n",
       " 'CustomTokens': epde.interface.prepared_tokens.CustomTokens,\n",
       " 'CacheStoredTokens': epde.interface.prepared_tokens.CacheStoredTokens,\n",
       " 'ExternalDerivativesTokens': epde.interface.prepared_tokens.ExternalDerivativesTokens,\n",
       " 'GridTokens': epde.interface.prepared_tokens.GridTokens,\n",
       " 'TrigonometricTokens': epde.interface.prepared_tokens.TrigonometricTokens,\n",
       " 'PhasedSine1DTokens': epde.interface.prepared_tokens.PhasedSine1DTokens,\n",
       " 'control': <module 'epde.control' from 'C:\\\\Users\\\\Ksenia\\\\jupyter310\\\\lib\\\\site-packages\\\\epde\\\\control\\\\__init__.py'>}"
      ]
     },
     "execution_count": 11,
     "metadata": {},
     "output_type": "execute_result"
    }
   ],
   "source": [
    "epde.__dict__"
   ]
  },
  {
   "cell_type": "code",
   "execution_count": 12,
   "id": "e46a2952",
   "metadata": {},
   "outputs": [],
   "source": [
    "data = np.load(npy_file)"
   ]
  },
  {
   "cell_type": "code",
   "execution_count": 13,
   "id": "4ce45ad1",
   "metadata": {},
   "outputs": [
    {
     "data": {
      "text/plain": [
       "array([[[ 0.597918  ,  0.26773056, -0.17751566,  0.7679116 ,\n",
       "          0.02206779],\n",
       "        [ 0.6807914 ,  0.13959253, -0.30000806,  1.0177046 ,\n",
       "          0.08735609],\n",
       "        [ 0.95052767,  0.08733295, -0.24366714,  1.4993129 ,\n",
       "          0.13928908],\n",
       "        ...,\n",
       "        [ 1.5154135 , -0.49229857,  0.24978463,  0.8268385 ,\n",
       "         -0.03140748],\n",
       "        [ 1.6737516 , -0.45002565,  0.19869234,  0.6334537 ,\n",
       "         -0.13154045],\n",
       "        [ 1.4536674 , -0.6653154 ,  0.6474414 ,  0.87073416,\n",
       "         -0.26066834]],\n",
       "\n",
       "       [[-1.5755044 , -1.5675732 ,  1.3994243 , -0.20776045,\n",
       "          0.732044  ],\n",
       "        [-1.8215969 , -1.6350925 ,  1.4144238 ,  0.0337607 ,\n",
       "          0.42076606],\n",
       "        [-2.0797691 , -1.3580676 ,  1.0207247 , -0.3178487 ,\n",
       "          0.6506471 ],\n",
       "        ...,\n",
       "        [-1.4450198 , -1.0323315 ,  0.8399755 , -0.34161997,\n",
       "         -1.218419  ],\n",
       "        [-1.6417465 , -1.2633455 ,  0.67276955, -0.33578223,\n",
       "         -1.4809238 ],\n",
       "        [-1.3905765 , -1.370883  ,  0.510686  , -0.65144557,\n",
       "         -1.351761  ]],\n",
       "\n",
       "       [[-0.12007048,  1.4744216 , -2.2288353 , -1.3608717 ,\n",
       "          0.3628531 ],\n",
       "        [-0.4329955 ,  1.6075094 , -2.294555  , -1.6798    ,\n",
       "          0.28770757],\n",
       "        [-0.7077016 ,  1.5875533 , -2.072837  , -1.6960431 ,\n",
       "          0.33038333],\n",
       "        ...,\n",
       "        [-0.47794586,  1.1299168 , -1.6850203 , -1.7355335 ,\n",
       "         -0.30942   ],\n",
       "        [-0.86610496,  1.1608965 , -1.2298791 , -1.8289523 ,\n",
       "         -0.0545111 ],\n",
       "        [-0.7719054 ,  1.043057  , -1.5156796 , -1.5695112 ,\n",
       "         -0.01757193]],\n",
       "\n",
       "       ...,\n",
       "\n",
       "       [[-1.8892101 , -2.2971382 , -0.87902886, -0.77978086,\n",
       "         -0.79492563],\n",
       "        [-1.4854283 , -2.2476501 , -0.64341235, -0.7802812 ,\n",
       "         -0.92215943],\n",
       "        [-1.8420317 , -1.9736154 , -0.6825013 , -0.92898244,\n",
       "         -1.0305196 ],\n",
       "        ...,\n",
       "        [-1.4110584 , -1.8630588 , -1.2297891 , -0.97186935,\n",
       "         -0.8015304 ],\n",
       "        [-1.4648106 , -1.5557897 , -1.1744179 , -1.4006239 ,\n",
       "         -0.91500133],\n",
       "        [-1.3334483 , -1.7357845 , -1.3397843 , -1.5735145 ,\n",
       "         -1.2893279 ]],\n",
       "\n",
       "       [[ 0.86403376,  1.1897106 , -0.02056585, -0.58318734,\n",
       "          1.4230775 ],\n",
       "        [ 0.35769135,  1.5339699 ,  0.09448794, -0.7090564 ,\n",
       "          1.146568  ],\n",
       "        [ 0.41805384,  1.2072135 , -0.03782941, -0.68601674,\n",
       "          1.121448  ],\n",
       "        ...,\n",
       "        [-0.04653433,  1.8072076 , -0.7119224 , -0.15695274,\n",
       "          0.30485308],\n",
       "        [-0.00618729,  1.5929829 , -0.53883934,  0.05512269,\n",
       "          0.1750707 ],\n",
       "        [-0.00641654,  1.612032  , -0.18089867, -0.40284944,\n",
       "          0.05256347]],\n",
       "\n",
       "       [[-0.53481674,  1.0308452 ,  0.12190875, -0.18760398,\n",
       "          0.63751787],\n",
       "        [-0.32920003,  1.4526396 ,  0.5849129 , -0.25583592,\n",
       "          0.6943444 ],\n",
       "        [-0.24484555,  1.374757  ,  0.44638535, -0.3969786 ,\n",
       "          1.0975258 ],\n",
       "        ...,\n",
       "        [-1.1049256 , -0.29438215, -0.61586356, -0.7976434 ,\n",
       "          0.86892843],\n",
       "        [-1.168353  , -0.26565033, -0.5426063 , -1.0349386 ,\n",
       "          0.75759447],\n",
       "        [-1.5741422 , -0.1562343 , -0.41959596, -0.6696262 ,\n",
       "          0.8116818 ]]], shape=(10000, 21, 5), dtype=float32)"
      ]
     },
     "execution_count": 13,
     "metadata": {},
     "output_type": "execute_result"
    }
   ],
   "source": [
    "data"
   ]
  },
  {
   "cell_type": "code",
   "execution_count": 14,
   "id": "946a11a1",
   "metadata": {},
   "outputs": [],
   "source": [
    "data_trajectories = [data[i] for i in range(data.shape[0])] "
   ]
  },
  {
   "cell_type": "code",
   "execution_count": 15,
   "id": "2d355a1a",
   "metadata": {},
   "outputs": [
    {
     "name": "stdout",
     "output_type": "stream",
     "text": [
      "          feature_0     feature_1     feature_2     feature_3     feature_4\n",
      "count  10000.000000  10000.000000  10000.000000  10000.000000  10000.000000\n",
      "mean       0.103961      0.093010      0.093589      0.099284      0.116630\n",
      "std        0.990251      1.006748      1.005488      1.001555      1.011966\n",
      "min       -4.107175     -3.622948     -4.234232     -3.543763     -3.598707\n",
      "25%       -0.567979     -0.586538     -0.587757     -0.582748     -0.565645\n",
      "50%        0.102548      0.088178      0.088697      0.098208      0.121467\n",
      "75%        0.765603      0.761413      0.776162      0.765511      0.805740\n",
      "max        4.250378      4.222790      4.204389      3.625981      5.042685\n"
     ]
    }
   ],
   "source": [
    "init_conditions = data[:, 0, :]\n",
    "features = [f'feature_{i}' for i in range(init_conditions.shape[1])]\n",
    "init_df = pd.DataFrame(init_conditions, columns=features)\n",
    "print(init_df.describe())"
   ]
  },
  {
   "cell_type": "code",
   "execution_count": 16,
   "id": "105dbc5b",
   "metadata": {},
   "outputs": [
    {
     "data": {
      "image/png": "[encoded data removed]",
      "text/plain": [
       "<Figure size 1000x700 with 1 Axes>"
      ]
     },
     "metadata": {},
     "output_type": "display_data"
    }
   ],
   "source": [
    "fig = plt.figure(figsize=(10, 7))\n",
    "ax = fig.add_subplot(111, projection='3d')\n",
    "num_trajectories = 21\n",
    "indices = np.random.choice(data.shape[0], num_trajectories, replace=False)\n",
    "for idx in indices:\n",
    "    traj = data[idx]\n",
    "    ax.plot(traj[:, 0], traj[:, 1], traj[:, 2], alpha=0.7)\n",
    "ax.set_xlabel('x')\n",
    "ax.set_ylabel('y')\n",
    "ax.set_zlabel('z')\n",
    "plt.show()"
   ]
  },
  {
   "cell_type": "code",
   "execution_count": 17,
   "id": "e0d5635b",
   "metadata": {},
   "outputs": [],
   "source": [
    "trajectories = [data[i] for i in range(data.shape[0])]\n"
   ]
  },
  {
   "cell_type": "code",
   "execution_count": 18,
   "id": "69385488",
   "metadata": {},
   "outputs": [
    {
     "data": {
      "text/plain": [
       "(21, 5)"
      ]
     },
     "execution_count": 18,
     "metadata": {},
     "output_type": "execute_result"
    }
   ],
   "source": [
    "trajectories[0].shape"
   ]
  },
  {
   "cell_type": "code",
   "execution_count": 19,
   "id": "0a41b290",
   "metadata": {},
   "outputs": [
    {
     "data": {
      "text/plain": [
       "10000"
      ]
     },
     "execution_count": 19,
     "metadata": {},
     "output_type": "execute_result"
    }
   ],
   "source": [
    "len(trajectories)"
   ]
  },
  {
   "cell_type": "code",
   "execution_count": 20,
   "id": "3adb8f91",
   "metadata": {},
   "outputs": [],
   "source": [
    "from typing import List"
   ]
  },
  {
   "cell_type": "code",
   "execution_count": 21,
   "id": "5255fb36",
   "metadata": {},
   "outputs": [],
   "source": [
    "def get_additional_token_families(ctrl, ctrl_net: torch.nn.Sequential, device = 'cpu'):\n",
    "    angle_trig_tokens = VarTrigTokens('phi', max_power=2, freq_center=1.)\n",
    "    sgn_tokens = DerivSignFunction(token_type = 'velocity_signum', var_name = 'y', token_labels=['sign(dy/dx1)',],\n",
    "                                   deriv_solver_orders = [[0,],])\n",
    "    control_var_tokens = epde.interface.prepared_tokens.ControlVarTokens(sample = ctrl, arg_var = [(0, [None,]), (1, [None,]),\n",
    "                                                                                                   (0, [0,]), (1, [0,])],\n",
    "                                                                         device = device, ann = ctrl_net)\n",
    "    return [angle_trig_tokens, sgn_tokens, control_var_tokens]   "
   ]
  },
  {
   "cell_type": "code",
   "execution_count": 22,
   "id": "095d00f0",
   "metadata": {},
   "outputs": [],
   "source": [
    "def get_results_from_epde_object(epde_search_obj):\n",
    "    \"\"\"Извлекает результаты непосредственно из объекта EPDE\"\"\"\n",
    "    results = []\n",
    "    \n",
    "    for system in epde_search_obj.equation_objects:\n",
    "        try:\n",
    "            equations = []\n",
    "            for eq in system.structure:\n",
    "                equations.append(eq.vals_as_string())\n",
    "            hyperparams = {\n",
    "                'terms_number': system.terms_number,\n",
    "                'max_factors_in_term': system.max_factors_in_term,\n",
    "                'sparsity': system.sparsity\n",
    "            }\n",
    "            \n",
    "            loss_values = system.obj_fun_values\n",
    "            \n",
    "            results.append({\n",
    "                'equations': equations,\n",
    "                'hyperparams': json.dumps(hyperparams),\n",
    "                'loss_values': json.dumps(loss_values)\n",
    "            })\n",
    "        except Exception as e:\n",
    "            print(f\"Error: {e}\")\n",
    "    \n",
    "    return results"
   ]
  },
  {
   "cell_type": "code",
   "execution_count": 23,
   "id": "727bd15c",
   "metadata": {},
   "outputs": [],
   "source": [
    "def epde_multisample_discovery(t: List[np.ndarray], x0: List[np.ndarray], x1: List[np.ndarray],x2: List[np.ndarray],x3: List[np.ndarray],x4: List[np.ndarray], \n",
    "                               derivs: List[np.ndarray]=None,  diff_method: str = 'poly'):\n",
    "    \n",
    "#     print(len(t), len(x0), len(x1), len(x2), len(x3), len(x4))\n",
    "    \n",
    "    samples = [[t[i], [x0[i], x1[i], x2[i], x3[i], x4[i]]] for i in range(len(t))]  # t[i], [\n",
    "#     print([sample[0].shape for sample in samples])\n",
    "    epde_search_obj = epde.EpdeMultisample(data_samples=samples, use_solver = False,\n",
    "                                           boundary = 3, verbose_params = {'show_iter_idx' : True})\n",
    "\n",
    "    if diff_method == 'ANN':\n",
    "        epde_search_obj.set_preprocessor(default_preprocessor_type='ANN',\n",
    "                                         preprocessor_kwargs={'epochs_max' : 100})\n",
    "    elif diff_method == 'poly':\n",
    "        epde_search_obj.set_preprocessor(default_preprocessor_type='poly',\n",
    "                                         preprocessor_kwargs={'use_smoothing' : True, 'sigma' : 1, \n",
    "                                                              'polynomial_window' : 3, 'poly_order' : 4}) \n",
    "    elif diff_method == 'FD':\n",
    "        epde_search_obj.set_preprocessor(default_preprocessor_type='FD',\n",
    "                                         preprocessor_kwargs={}) \n",
    "    else:\n",
    "        raise ValueError('Incorrect preprocessing tool selected.')\n",
    "        \n",
    "    eps = 5e-7\n",
    "    popsize = 12\n",
    "    epde_search_obj.set_moeadd_params(population_size = popsize, training_epochs=30)\n",
    "\n",
    "    factors_max_number = {'factors_num' : [1, 2, 3,], 'probas' : [0.2, 0.65, 0.15]}\n",
    "    \n",
    "    return epde_search_obj\n",
    "\n",
    "    epde_search_obj.fit(samples = samples, variable_names = ['u1', 'u2', 'u3', 'u4', 'u5'], max_deriv_order = (2,),\n",
    "                            equation_terms_max_number = 15, data_fun_pow = 2, deriv_fun_pow=2, derivs = derivs,\n",
    "#                             additional_tokens = get_additional_token_families(ctrl=u), # , control_var_tokens, \n",
    "                            equation_factors_max_number = factors_max_number,\n",
    "                            eq_sparsity_interval = (1e-7, 1e-5)) # TODO: narrow sparsity interval, reduce the population size\n",
    "    results = get_results_from_epde_object(epde_search_obj)\n",
    "    \n",
    "    return epde_search_obj, results      \n"
   ]
  },
  {
   "cell_type": "code",
   "execution_count": 24,
   "id": "ca3c370e",
   "metadata": {},
   "outputs": [],
   "source": [
    "T = [[np.linspace(0, 1, data.shape[1]),] for traj in trajectories[:5]]"
   ]
  },
  {
   "cell_type": "code",
   "execution_count": 25,
   "id": "1bf8ba7d",
   "metadata": {},
   "outputs": [],
   "source": [
    "# T = T[:1]"
   ]
  },
  {
   "cell_type": "code",
   "execution_count": 26,
   "id": "f9329544",
   "metadata": {},
   "outputs": [],
   "source": [
    "X0 = [traj[:, 0].reshape(-1) for traj in trajectories[:5]]\n",
    "X1 = [traj[:, 1].reshape(-1) for traj in trajectories[:5]]\n",
    "X2 = [traj[:, 2].reshape(-1) for traj in trajectories[:5]]\n",
    "X3 = [traj[:, 3].reshape(-1) for traj in trajectories[:5]]\n",
    "X4 = [traj[:, 4].reshape(-1) for traj in trajectories[:5]]"
   ]
  },
  {
   "cell_type": "code",
   "execution_count": 27,
   "id": "ca8818b4",
   "metadata": {},
   "outputs": [],
   "source": [
    "# X0 = X0[:1]\n",
    "# X1 = X1[:1]\n",
    "# X2= X2[:1]\n",
    "# X3= X3[:1]\n",
    "# X4= X4[:1]"
   ]
  },
  {
   "cell_type": "code",
   "execution_count": 28,
   "id": "127fe365",
   "metadata": {},
   "outputs": [],
   "source": [
    "T0 = T[:1]"
   ]
  },
  {
   "cell_type": "code",
   "execution_count": 29,
   "id": "940d41fd",
   "metadata": {},
   "outputs": [
    {
     "data": {
      "text/plain": [
       "[[array([0.  , 0.05, 0.1 , 0.15, 0.2 , 0.25, 0.3 , 0.35, 0.4 , 0.45, 0.5 ,\n",
       "         0.55, 0.6 , 0.65, 0.7 , 0.75, 0.8 , 0.85, 0.9 , 0.95, 1.  ])],\n",
       " [array([0.  , 0.05, 0.1 , 0.15, 0.2 , 0.25, 0.3 , 0.35, 0.4 , 0.45, 0.5 ,\n",
       "         0.55, 0.6 , 0.65, 0.7 , 0.75, 0.8 , 0.85, 0.9 , 0.95, 1.  ])],\n",
       " [array([0.  , 0.05, 0.1 , 0.15, 0.2 , 0.25, 0.3 , 0.35, 0.4 , 0.45, 0.5 ,\n",
       "         0.55, 0.6 , 0.65, 0.7 , 0.75, 0.8 , 0.85, 0.9 , 0.95, 1.  ])],\n",
       " [array([0.  , 0.05, 0.1 , 0.15, 0.2 , 0.25, 0.3 , 0.35, 0.4 , 0.45, 0.5 ,\n",
       "         0.55, 0.6 , 0.65, 0.7 , 0.75, 0.8 , 0.85, 0.9 , 0.95, 1.  ])],\n",
       " [array([0.  , 0.05, 0.1 , 0.15, 0.2 , 0.25, 0.3 , 0.35, 0.4 , 0.45, 0.5 ,\n",
       "         0.55, 0.6 , 0.65, 0.7 , 0.75, 0.8 , 0.85, 0.9 , 0.95, 1.  ])]]"
      ]
     },
     "execution_count": 29,
     "metadata": {},
     "output_type": "execute_result"
    }
   ],
   "source": [
    "T"
   ]
  },
  {
   "cell_type": "code",
   "execution_count": 37,
   "id": "d9918c8b",
   "metadata": {
    "scrolled": true
   },
   "outputs": [
    {
     "name": "stdout",
     "output_type": "stream",
     "text": [
      "setting builder with <epde.optimizers.builder.StrategyBuilder object at 0x0000025D5D4CFD30>\n",
      "setting builder with <epde.optimizers.builder.StrategyBuilder object at 0x0000025D5D4CFD30>\n",
      "grids shape is [(<class 'list'>, 1), (<class 'list'>, 1), (<class 'list'>, 1), (<class 'list'>, 1), (<class 'list'>, 1)]\n"
     ]
    },
    {
     "ename": "TypeError",
     "evalue": "cannot unpack non-iterable EpdeMultisample object",
     "output_type": "error",
     "traceback": [
      "\u001b[1;31m---------------------------------------------------------------------------\u001b[0m",
      "\u001b[1;31mTypeError\u001b[0m                                 Traceback (most recent call last)",
      "Cell \u001b[1;32mIn[37], line 1\u001b[0m\n\u001b[1;32m----> 1\u001b[0m epde_obj, results \u001b[38;5;241m=\u001b[39m epde_multisample_discovery(T, X0, X1, X2, X3, X4, diff_method\u001b[38;5;241m=\u001b[39m\u001b[38;5;124m'\u001b[39m\u001b[38;5;124mpoly\u001b[39m\u001b[38;5;124m'\u001b[39m)\n",
      "\u001b[1;31mTypeError\u001b[0m: cannot unpack non-iterable EpdeMultisample object"
     ]
    }
   ],
   "source": [
    "epde_obj, results = epde_multisample_discovery(T, X0, X1, X2, X3, X\n",
    "                                               4, diff_method='poly')"
   ]
  },
  {
   "cell_type": "code",
   "execution_count": 34,
   "id": "7deba040",
   "metadata": {},
   "outputs": [
    {
     "ename": "NameError",
     "evalue": "name 'epde_search_obj' is not defined",
     "output_type": "error",
     "traceback": [
      "\u001b[1;31m---------------------------------------------------------------------------\u001b[0m",
      "\u001b[1;31mNameError\u001b[0m                                 Traceback (most recent call last)",
      "Cell \u001b[1;32mIn[34], line 1\u001b[0m\n\u001b[1;32m----> 1\u001b[0m results \u001b[38;5;241m=\u001b[39m get_results_from_epde_object(\u001b[43mepde_search_obj\u001b[49m)\n",
      "\u001b[1;31mNameError\u001b[0m: name 'epde_search_obj' is not defined"
     ]
    }
   ],
   "source": [
    "results = get_results_from_epde_object(epde_search_obj)"
   ]
  },
  {
   "cell_type": "code",
   "execution_count": null,
   "id": "8787310f",
   "metadata": {},
   "outputs": [],
   "source": []
  }
 ],
 "metadata": {
  "kernelspec": {
   "display_name": "Python 3.10 (myenv)",
   "language": "python",
   "name": "py310"
  },
  "language_info": {
   "codemirror_mode": {
    "name": "ipython",
    "version": 3
   },
   "file_extension": ".py",
   "mimetype": "text/x-python",
   "name": "python",
   "nbconvert_exporter": "python",
   "pygments_lexer": "ipython3",
   "version": "3.10.0"
  }
 },
 "nbformat": 4,
 "nbformat_minor": 5
}
